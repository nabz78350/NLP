{
 "cells": [
  {
   "cell_type": "code",
   "execution_count": 1,
   "metadata": {},
   "outputs": [],
   "source": [
    "%load_ext autoreload\n",
    "%autoreload 2\n",
    "import pandas as pd\n",
    "from sklearn.model_selection import train_test_split\n",
    "import numpy as np\n",
    "from sklearn.datasets import fetch_20newsgroups\n",
    "from sklearn.feature_extraction.text import CountVectorizer\n",
    "from sklearn.feature_extraction.text import TfidfTransformer\n",
    "from sklearn.neighbors import KNeighborsClassifier\n",
    "from sklearn.pipeline import Pipeline\n",
    "from modelling import *"
   ]
  },
  {
   "cell_type": "code",
   "execution_count": 2,
   "metadata": {},
   "outputs": [
    {
     "name": "stdout",
     "output_type": "stream",
     "text": [
      "The autoreload extension is already loaded. To reload it, use:\n",
      "  %reload_ext autoreload\n"
     ]
    }
   ],
   "source": [
    "%load_ext autoreload\n",
    "%autoreload 2\n",
    "from modelling import *"
   ]
  },
  {
   "cell_type": "code",
   "execution_count": 3,
   "metadata": {},
   "outputs": [],
   "source": [
    "lr = 1e-4\n",
    "batch_size = 50\n",
    "dropout_keep_prob = 0.5\n",
    "embedding_size = 300\n",
    "max_document_length = 100  # each sentence has until 100 words\n",
    "dev_size = 0.8 # split percentage to train\\validation data\n",
    "max_size = 5000 # maximum vocabulary size\n",
    "seed = 1\n",
    "num_classes = 3\n",
    "hidden_size1 = 256\n",
    "hidden_size2 = 128\n",
    "hidden_size3 = 64\n",
    "num_epochs = 6"
   ]
  },
  {
   "cell_type": "code",
   "execution_count": 181,
   "metadata": {},
   "outputs": [
    {
     "name": "stdout",
     "output_type": "stream",
     "text": [
      "modifying features\n",
      "['link', 'employer', 'occupation', 'name_sex', 'firstname_lower']\n",
      "['link', 'employer', 'occupation', 'name_sex', 'firstname_lower_enhanced']\n"
     ]
    },
    {
     "name": "stderr",
     "output_type": "stream",
     "text": [
      "[nltk_data] Downloading package stopwords to\n",
      "[nltk_data]     C:\\Users\\marti\\AppData\\Roaming\\nltk_data...\n",
      "[nltk_data]   Package stopwords is already up-to-date!\n"
     ]
    }
   ],
   "source": [
    "data_class  = DataClass(use_prediction= True,use_enhanced=True,custom=True)\n",
    "data_class.create_dataset()\n",
    "modelling_data = DataModel(data = data_class.data_model,\n",
    "                           custom_test_index=data_class.enhanced_index,\n",
    "                           max_len = 200,\n",
    "                           custom=True)"
   ]
  },
  {
   "cell_type": "code",
   "execution_count": 182,
   "metadata": {},
   "outputs": [],
   "source": [
    "import tensorflow as tf\n",
    "from tensorflow.keras.preprocessing.text import Tokenizer\n",
    "from tensorflow.keras.preprocessing.sequence import pad_sequences\n",
    "from tensorflow.keras.callbacks import EarlyStopping\n",
    "from tensorflow.keras.models import Sequential\n",
    "from tensorflow.keras.optimizers import Adam\n",
    "from tensorflow.keras.layers import LSTM, GRU, Dense, Embedding, Dropout, GlobalAveragePooling1D, Flatten, SpatialDropout1D, Bidirectional"
   ]
  },
  {
   "cell_type": "code",
   "execution_count": 195,
   "metadata": {},
   "outputs": [
    {
     "name": "stdout",
     "output_type": "stream",
     "text": [
      "Shape of training tensor:  (205, 200)\n",
      "Shape of testing tensor:  (27, 200)\n",
      "Model: \"sequential_51\"\n",
      "_________________________________________________________________\n",
      " Layer (type)                Output Shape              Param #   \n",
      "=================================================================\n",
      " embedding_50 (Embedding)    (None, 200, 500)          250000    \n",
      "                                                                 \n",
      " flatten_41 (Flatten)        (None, 100000)            0         \n",
      "                                                                 \n",
      " dense_177 (Dense)           (None, 200)               20000200  \n",
      "                                                                 \n",
      " dropout_128 (Dropout)       (None, 200)               0         \n",
      "                                                                 \n",
      " dense_178 (Dense)           (None, 200)               40200     \n",
      "                                                                 \n",
      " dropout_129 (Dropout)       (None, 200)               0         \n",
      "                                                                 \n",
      " dense_179 (Dense)           (None, 200)               40200     \n",
      "                                                                 \n",
      " dropout_130 (Dropout)       (None, 200)               0         \n",
      "                                                                 \n",
      " dense_180 (Dense)           (None, 1)                 201       \n",
      "                                                                 \n",
      "=================================================================\n",
      "Total params: 20330801 (77.56 MB)\n",
      "Trainable params: 20330801 (77.56 MB)\n",
      "Non-trainable params: 0 (0.00 Byte)\n",
      "_________________________________________________________________\n"
     ]
    }
   ],
   "source": [
    "from tensorflow.keras.models import Sequential\n",
    "from tensorflow.keras.layers import Embedding, Dense, Flatten, Dropout, GlobalAveragePooling1D\n",
    "from tensorflow.keras import Input\n",
    "\n",
    "vocab_size = modelling_data.vocab_size\n",
    "embed_size = 500\n",
    "hidden_size2 =200\n",
    "hidden_size3 = 200\n",
    "hidden_size4 = 200\n",
    "output_dim =1 \n",
    "dropout_rate = 0.1\n",
    "max_document_length = modelling_data.max_len\n",
    "modelling_data.create_padding()\n",
    "model = Sequential()\n",
    "model.add(Input(shape=(max_document_length,)))  # input layer specifying the input shape\n",
    "model.add(Embedding(input_dim=vocab_size, output_dim=embed_size, input_length=max_document_length))\n",
    "model.add(Flatten())  # flattening the output of the embedding layer to fit into dense layers\n",
    "model.add(Dense(hidden_size2, activation='leaky_relu'))\n",
    "model.add(Dropout(dropout_rate))\n",
    "model.add(Dense(hidden_size3, activation='leaky_relu'))\n",
    "model.add(Dropout(dropout_rate))\n",
    "model.add(Dense(hidden_size4, activation='leaky_relu'))\n",
    "model.add(Dropout(dropout_rate))\n",
    "model.add(Dense(output_dim, activation='sigmoid' if output_dim == 1 else 'softmax'))  # for binary classification use 'sigmoid', for multi-class use 'softmax'\n",
    "\n",
    "# Compile the model\n",
    "model.compile(optimizer='adam', loss='binary_crossentropy' if output_dim == 1 else 'categorical_crossentropy', metrics=['accuracy'])\n",
    "\n",
    "# Print the model summary to check if everything is as expected\n",
    "model.summary()\n"
   ]
  },
  {
   "cell_type": "code",
   "execution_count": 196,
   "metadata": {},
   "outputs": [
    {
     "name": "stdout",
     "output_type": "stream",
     "text": [
      "Epoch 1/300\n",
      "6/6 - 2s - loss: 1.8645 - accuracy: 0.4695 - val_loss: 0.7181 - val_accuracy: 0.6341 - 2s/epoch - 331ms/step\n",
      "Epoch 2/300\n",
      "6/6 - 1s - loss: 1.0116 - accuracy: 0.4939 - val_loss: 0.7645 - val_accuracy: 0.6341 - 1s/epoch - 177ms/step\n",
      "Epoch 3/300\n",
      "6/6 - 1s - loss: 0.8486 - accuracy: 0.4756 - val_loss: 0.6771 - val_accuracy: 0.6341 - 1s/epoch - 218ms/step\n",
      "Epoch 4/300\n",
      "6/6 - 1s - loss: 0.6845 - accuracy: 0.6037 - val_loss: 0.8038 - val_accuracy: 0.3659 - 1s/epoch - 220ms/step\n",
      "Epoch 5/300\n",
      "6/6 - 1s - loss: 0.6408 - accuracy: 0.6159 - val_loss: 0.5934 - val_accuracy: 0.6341 - 1s/epoch - 211ms/step\n",
      "Epoch 6/300\n",
      "6/6 - 1s - loss: 0.6868 - accuracy: 0.5732 - val_loss: 0.6570 - val_accuracy: 0.4390 - 1s/epoch - 204ms/step\n",
      "Epoch 7/300\n",
      "6/6 - 1s - loss: 0.4466 - accuracy: 0.7500 - val_loss: 0.2944 - val_accuracy: 0.9268 - 1s/epoch - 219ms/step\n",
      "Epoch 8/300\n",
      "6/6 - 1s - loss: 0.2307 - accuracy: 0.9573 - val_loss: 0.1918 - val_accuracy: 0.9512 - 1s/epoch - 208ms/step\n",
      "Epoch 9/300\n",
      "6/6 - 1s - loss: 0.0599 - accuracy: 1.0000 - val_loss: 0.2993 - val_accuracy: 0.9268 - 1s/epoch - 238ms/step\n",
      "Epoch 10/300\n",
      "6/6 - 2s - loss: 0.0200 - accuracy: 1.0000 - val_loss: 0.2186 - val_accuracy: 0.9512 - 2s/epoch - 298ms/step\n",
      "Epoch 11/300\n",
      "6/6 - 2s - loss: 0.0047 - accuracy: 1.0000 - val_loss: 0.2057 - val_accuracy: 0.9512 - 2s/epoch - 268ms/step\n",
      "Epoch 12/300\n",
      "6/6 - 2s - loss: 0.0020 - accuracy: 1.0000 - val_loss: 0.2101 - val_accuracy: 0.9512 - 2s/epoch - 287ms/step\n",
      "Epoch 13/300\n",
      "6/6 - 2s - loss: 0.0015 - accuracy: 1.0000 - val_loss: 0.2185 - val_accuracy: 0.9268 - 2s/epoch - 258ms/step\n",
      "Epoch 14/300\n",
      "6/6 - 2s - loss: 0.0012 - accuracy: 1.0000 - val_loss: 0.2284 - val_accuracy: 0.9268 - 2s/epoch - 251ms/step\n",
      "Epoch 15/300\n",
      "6/6 - 1s - loss: 0.0011 - accuracy: 1.0000 - val_loss: 0.2402 - val_accuracy: 0.9512 - 1s/epoch - 249ms/step\n",
      "Epoch 16/300\n",
      "6/6 - 2s - loss: 4.3227e-04 - accuracy: 1.0000 - val_loss: 0.2500 - val_accuracy: 0.9512 - 2s/epoch - 264ms/step\n",
      "Epoch 17/300\n",
      "6/6 - 1s - loss: 5.0052e-04 - accuracy: 1.0000 - val_loss: 0.2585 - val_accuracy: 0.9512 - 1s/epoch - 235ms/step\n",
      "Epoch 18/300\n",
      "6/6 - 1s - loss: 2.8772e-04 - accuracy: 1.0000 - val_loss: 0.2654 - val_accuracy: 0.9512 - 1s/epoch - 243ms/step\n"
     ]
    }
   ],
   "source": [
    "num_epochs = 300\n",
    "early_stop = EarlyStopping(monitor='val_loss', patience=10)\n",
    "history = model.fit(modelling_data.training_padded,\n",
    "                    modelling_data.y_train,\n",
    "                    epochs=num_epochs, \n",
    "                    validation_split = 0.2,\n",
    "                    callbacks =[early_stop],\n",
    "                    verbose=2)"
   ]
  },
  {
   "cell_type": "code",
   "execution_count": 197,
   "metadata": {},
   "outputs": [
    {
     "data": {
      "text/plain": [
       "Text(0.5, 0, 'epoch')"
      ]
     },
     "execution_count": 197,
     "metadata": {},
     "output_type": "execute_result"
    },
    {
     "data": {
      "image/png": "[encoded data removed]",
      "text/plain": [
       "<Figure size 1000x400 with 2 Axes>"
      ]
     },
     "metadata": {},
     "output_type": "display_data"
    }
   ],
   "source": [
    "train_loss = pd.DataFrame(model.history.history['loss'],columns = ['train_loss'])\n",
    "val_loss = pd.DataFrame(model.history.history['val_loss'],columns = ['val_loss'])\n",
    "train_accuracy = pd.DataFrame(model.history.history['accuracy'],columns = ['train_accuracy'])\n",
    "val_accuracy = pd.DataFrame(model.history.history['val_accuracy'],columns = ['val_accuracy'])\n",
    "accuracy = train_accuracy.join(val_accuracy)\n",
    "loss = train_loss.join(val_loss)\n",
    "fig,axes = plt.subplots(nrows=1,ncols=2,figsize = (10,4))\n",
    "accuracy.plot(ax=axes[0])\n",
    "axes[0].set_xlabel('epoch')\n",
    "\n",
    "loss.plot(ax = axes[1])\n",
    "axes[1].set_xlabel('epoch')"
   ]
  },
  {
   "cell_type": "code",
   "execution_count": 198,
   "metadata": {},
   "outputs": [
    {
     "name": "stdout",
     "output_type": "stream",
     "text": [
      "1/1 - 0s - loss: 0.0532 - accuracy: 0.9902 - 89ms/epoch - 89ms/step\n",
      "1/1 [==============================] - 0s 56ms/step - loss: 1.6596 - accuracy: 0.7778\n",
      "Train accuracy: 99.02\n",
      "Test accuracy: 77.78\n"
     ]
    }
   ],
   "source": [
    "train_dense_results = model.evaluate(modelling_data.training_padded, np.asarray(modelling_data.y_train), verbose=2, batch_size=256)\n",
    "test_dense_results = model.evaluate(modelling_data.testing_padded, modelling_data.y_test)\n",
    "print(f'Train accuracy: {train_dense_results[1]*100:0.2f}')\n",
    "print(f'Test accuracy: {test_dense_results[1]*100:0.2f}')"
   ]
  },
  {
   "cell_type": "code",
   "execution_count": null,
   "metadata": {},
   "outputs": [],
   "source": []
  }
 ],
 "metadata": {
  "kernelspec": {
   "display_name": "Python 3",
   "language": "python",
   "name": "python3"
  },
  "language_info": {
   "codemirror_mode": {
    "name": "ipython",
    "version": 3
   },
   "file_extension": ".py",
   "mimetype": "text/x-python",
   "name": "python",
   "nbconvert_exporter": "python",
   "pygments_lexer": "ipython3",
   "version": "3.11.5"
  }
 },
 "nbformat": 4,
 "nbformat_minor": 2
}
