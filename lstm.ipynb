{
 "cells": [
  {
   "cell_type": "code",
   "execution_count": 2,
   "metadata": {},
   "outputs": [],
   "source": [
    "import numpy as np\n",
    "import pandas as pd\n",
    "import seaborn as sns\n",
    "import matplotlib.pyplot as plt\n",
    "from wordcloud import WordCloud, STOPWORDS, ImageColorGenerator\n",
    "%matplotlib inline\n",
    "from sklearn.metrics import accuracy_score\n",
    "from sklearn.model_selection import train_test_split\n",
    "import tensorflow as tf\n",
    "from tensorflow.keras.preprocessing.text import Tokenizer\n",
    "from tensorflow.keras.preprocessing.sequence import pad_sequences\n",
    "from tensorflow.keras.callbacks import EarlyStopping\n",
    "from tensorflow.keras.models import Sequential\n",
    "from tensorflow.keras.layers import LSTM, GRU, Dense, Embedding, Dropout, GlobalAveragePooling1D, Flatten, SpatialDropout1D, Bidirectional"
   ]
  },
  {
   "cell_type": "code",
   "execution_count": 5,
   "metadata": {},
   "outputs": [
    {
     "ename": "FileNotFoundError",
     "evalue": "[Errno 2] No such file or directory: 'data_clean/data_model_predictions.pq'",
     "output_type": "error",
     "traceback": [
      "\u001b[1;31m---------------------------------------------------------------------------\u001b[0m",
      "\u001b[1;31mFileNotFoundError\u001b[0m                         Traceback (most recent call last)",
      "Cell \u001b[1;32mIn[5], line 1\u001b[0m\n\u001b[1;32m----> 1\u001b[0m data_model_predictions \u001b[38;5;241m=\u001b[39m \u001b[43mpd\u001b[49m\u001b[38;5;241;43m.\u001b[39;49m\u001b[43mread_parquet\u001b[49m\u001b[43m(\u001b[49m\u001b[38;5;124;43m'\u001b[39;49m\u001b[38;5;124;43mdata_clean/data_model_predictions.pq\u001b[39;49m\u001b[38;5;124;43m'\u001b[39;49m\u001b[43m)\u001b[49m\n\u001b[0;32m      3\u001b[0m train, test \u001b[38;5;241m=\u001b[39m train_test_split(data_model_predictions,test_size\u001b[38;5;241m=\u001b[39m\u001b[38;5;241m0.5\u001b[39m)\n\u001b[0;32m      4\u001b[0m train\n",
      "File \u001b[1;32mc:\\Users\\marti\\AppData\\Local\\Programs\\Python\\Python311\\Lib\\site-packages\\pandas\\io\\parquet.py:670\u001b[0m, in \u001b[0;36mread_parquet\u001b[1;34m(path, engine, columns, storage_options, use_nullable_dtypes, dtype_backend, filesystem, filters, **kwargs)\u001b[0m\n\u001b[0;32m    667\u001b[0m     use_nullable_dtypes \u001b[38;5;241m=\u001b[39m \u001b[38;5;28;01mFalse\u001b[39;00m\n\u001b[0;32m    668\u001b[0m check_dtype_backend(dtype_backend)\n\u001b[1;32m--> 670\u001b[0m \u001b[38;5;28;01mreturn\u001b[39;00m \u001b[43mimpl\u001b[49m\u001b[38;5;241;43m.\u001b[39;49m\u001b[43mread\u001b[49m\u001b[43m(\u001b[49m\n\u001b[0;32m    671\u001b[0m \u001b[43m    \u001b[49m\u001b[43mpath\u001b[49m\u001b[43m,\u001b[49m\n\u001b[0;32m    672\u001b[0m \u001b[43m    \u001b[49m\u001b[43mcolumns\u001b[49m\u001b[38;5;241;43m=\u001b[39;49m\u001b[43mcolumns\u001b[49m\u001b[43m,\u001b[49m\n\u001b[0;32m    673\u001b[0m \u001b[43m    \u001b[49m\u001b[43mfilters\u001b[49m\u001b[38;5;241;43m=\u001b[39;49m\u001b[43mfilters\u001b[49m\u001b[43m,\u001b[49m\n\u001b[0;32m    674\u001b[0m \u001b[43m    \u001b[49m\u001b[43mstorage_options\u001b[49m\u001b[38;5;241;43m=\u001b[39;49m\u001b[43mstorage_options\u001b[49m\u001b[43m,\u001b[49m\n\u001b[0;32m    675\u001b[0m \u001b[43m    \u001b[49m\u001b[43muse_nullable_dtypes\u001b[49m\u001b[38;5;241;43m=\u001b[39;49m\u001b[43muse_nullable_dtypes\u001b[49m\u001b[43m,\u001b[49m\n\u001b[0;32m    676\u001b[0m \u001b[43m    \u001b[49m\u001b[43mdtype_backend\u001b[49m\u001b[38;5;241;43m=\u001b[39;49m\u001b[43mdtype_backend\u001b[49m\u001b[43m,\u001b[49m\n\u001b[0;32m    677\u001b[0m \u001b[43m    \u001b[49m\u001b[43mfilesystem\u001b[49m\u001b[38;5;241;43m=\u001b[39;49m\u001b[43mfilesystem\u001b[49m\u001b[43m,\u001b[49m\n\u001b[0;32m    678\u001b[0m \u001b[43m    \u001b[49m\u001b[38;5;241;43m*\u001b[39;49m\u001b[38;5;241;43m*\u001b[39;49m\u001b[43mkwargs\u001b[49m\u001b[43m,\u001b[49m\n\u001b[0;32m    679\u001b[0m \u001b[43m\u001b[49m\u001b[43m)\u001b[49m\n",
      "File \u001b[1;32mc:\\Users\\marti\\AppData\\Local\\Programs\\Python\\Python311\\Lib\\site-packages\\pandas\\io\\parquet.py:265\u001b[0m, in \u001b[0;36mPyArrowImpl.read\u001b[1;34m(self, path, columns, filters, use_nullable_dtypes, dtype_backend, storage_options, filesystem, **kwargs)\u001b[0m\n\u001b[0;32m    262\u001b[0m \u001b[38;5;28;01mif\u001b[39;00m manager \u001b[38;5;241m==\u001b[39m \u001b[38;5;124m\"\u001b[39m\u001b[38;5;124marray\u001b[39m\u001b[38;5;124m\"\u001b[39m:\n\u001b[0;32m    263\u001b[0m     to_pandas_kwargs[\u001b[38;5;124m\"\u001b[39m\u001b[38;5;124msplit_blocks\u001b[39m\u001b[38;5;124m\"\u001b[39m] \u001b[38;5;241m=\u001b[39m \u001b[38;5;28;01mTrue\u001b[39;00m  \u001b[38;5;66;03m# type: ignore[assignment]\u001b[39;00m\n\u001b[1;32m--> 265\u001b[0m path_or_handle, handles, filesystem \u001b[38;5;241m=\u001b[39m \u001b[43m_get_path_or_handle\u001b[49m\u001b[43m(\u001b[49m\n\u001b[0;32m    266\u001b[0m \u001b[43m    \u001b[49m\u001b[43mpath\u001b[49m\u001b[43m,\u001b[49m\n\u001b[0;32m    267\u001b[0m \u001b[43m    \u001b[49m\u001b[43mfilesystem\u001b[49m\u001b[43m,\u001b[49m\n\u001b[0;32m    268\u001b[0m \u001b[43m    \u001b[49m\u001b[43mstorage_options\u001b[49m\u001b[38;5;241;43m=\u001b[39;49m\u001b[43mstorage_options\u001b[49m\u001b[43m,\u001b[49m\n\u001b[0;32m    269\u001b[0m \u001b[43m    \u001b[49m\u001b[43mmode\u001b[49m\u001b[38;5;241;43m=\u001b[39;49m\u001b[38;5;124;43m\"\u001b[39;49m\u001b[38;5;124;43mrb\u001b[39;49m\u001b[38;5;124;43m\"\u001b[39;49m\u001b[43m,\u001b[49m\n\u001b[0;32m    270\u001b[0m \u001b[43m\u001b[49m\u001b[43m)\u001b[49m\n\u001b[0;32m    271\u001b[0m \u001b[38;5;28;01mtry\u001b[39;00m:\n\u001b[0;32m    272\u001b[0m     pa_table \u001b[38;5;241m=\u001b[39m \u001b[38;5;28mself\u001b[39m\u001b[38;5;241m.\u001b[39mapi\u001b[38;5;241m.\u001b[39mparquet\u001b[38;5;241m.\u001b[39mread_table(\n\u001b[0;32m    273\u001b[0m         path_or_handle,\n\u001b[0;32m    274\u001b[0m         columns\u001b[38;5;241m=\u001b[39mcolumns,\n\u001b[1;32m   (...)\u001b[0m\n\u001b[0;32m    277\u001b[0m         \u001b[38;5;241m*\u001b[39m\u001b[38;5;241m*\u001b[39mkwargs,\n\u001b[0;32m    278\u001b[0m     )\n",
      "File \u001b[1;32mc:\\Users\\marti\\AppData\\Local\\Programs\\Python\\Python311\\Lib\\site-packages\\pandas\\io\\parquet.py:139\u001b[0m, in \u001b[0;36m_get_path_or_handle\u001b[1;34m(path, fs, storage_options, mode, is_dir)\u001b[0m\n\u001b[0;32m    129\u001b[0m handles \u001b[38;5;241m=\u001b[39m \u001b[38;5;28;01mNone\u001b[39;00m\n\u001b[0;32m    130\u001b[0m \u001b[38;5;28;01mif\u001b[39;00m (\n\u001b[0;32m    131\u001b[0m     \u001b[38;5;129;01mnot\u001b[39;00m fs\n\u001b[0;32m    132\u001b[0m     \u001b[38;5;129;01mand\u001b[39;00m \u001b[38;5;129;01mnot\u001b[39;00m is_dir\n\u001b[1;32m   (...)\u001b[0m\n\u001b[0;32m    137\u001b[0m     \u001b[38;5;66;03m# fsspec resources can also point to directories\u001b[39;00m\n\u001b[0;32m    138\u001b[0m     \u001b[38;5;66;03m# this branch is used for example when reading from non-fsspec URLs\u001b[39;00m\n\u001b[1;32m--> 139\u001b[0m     handles \u001b[38;5;241m=\u001b[39m \u001b[43mget_handle\u001b[49m\u001b[43m(\u001b[49m\n\u001b[0;32m    140\u001b[0m \u001b[43m        \u001b[49m\u001b[43mpath_or_handle\u001b[49m\u001b[43m,\u001b[49m\u001b[43m \u001b[49m\u001b[43mmode\u001b[49m\u001b[43m,\u001b[49m\u001b[43m \u001b[49m\u001b[43mis_text\u001b[49m\u001b[38;5;241;43m=\u001b[39;49m\u001b[38;5;28;43;01mFalse\u001b[39;49;00m\u001b[43m,\u001b[49m\u001b[43m \u001b[49m\u001b[43mstorage_options\u001b[49m\u001b[38;5;241;43m=\u001b[39;49m\u001b[43mstorage_options\u001b[49m\n\u001b[0;32m    141\u001b[0m \u001b[43m    \u001b[49m\u001b[43m)\u001b[49m\n\u001b[0;32m    142\u001b[0m     fs \u001b[38;5;241m=\u001b[39m \u001b[38;5;28;01mNone\u001b[39;00m\n\u001b[0;32m    143\u001b[0m     path_or_handle \u001b[38;5;241m=\u001b[39m handles\u001b[38;5;241m.\u001b[39mhandle\n",
      "File \u001b[1;32mc:\\Users\\marti\\AppData\\Local\\Programs\\Python\\Python311\\Lib\\site-packages\\pandas\\io\\common.py:872\u001b[0m, in \u001b[0;36mget_handle\u001b[1;34m(path_or_buf, mode, encoding, compression, memory_map, is_text, errors, storage_options)\u001b[0m\n\u001b[0;32m    863\u001b[0m         handle \u001b[38;5;241m=\u001b[39m \u001b[38;5;28mopen\u001b[39m(\n\u001b[0;32m    864\u001b[0m             handle,\n\u001b[0;32m    865\u001b[0m             ioargs\u001b[38;5;241m.\u001b[39mmode,\n\u001b[1;32m   (...)\u001b[0m\n\u001b[0;32m    868\u001b[0m             newline\u001b[38;5;241m=\u001b[39m\u001b[38;5;124m\"\u001b[39m\u001b[38;5;124m\"\u001b[39m,\n\u001b[0;32m    869\u001b[0m         )\n\u001b[0;32m    870\u001b[0m     \u001b[38;5;28;01melse\u001b[39;00m:\n\u001b[0;32m    871\u001b[0m         \u001b[38;5;66;03m# Binary mode\u001b[39;00m\n\u001b[1;32m--> 872\u001b[0m         handle \u001b[38;5;241m=\u001b[39m \u001b[38;5;28;43mopen\u001b[39;49m\u001b[43m(\u001b[49m\u001b[43mhandle\u001b[49m\u001b[43m,\u001b[49m\u001b[43m \u001b[49m\u001b[43mioargs\u001b[49m\u001b[38;5;241;43m.\u001b[39;49m\u001b[43mmode\u001b[49m\u001b[43m)\u001b[49m\n\u001b[0;32m    873\u001b[0m     handles\u001b[38;5;241m.\u001b[39mappend(handle)\n\u001b[0;32m    875\u001b[0m \u001b[38;5;66;03m# Convert BytesIO or file objects passed with an encoding\u001b[39;00m\n",
      "\u001b[1;31mFileNotFoundError\u001b[0m: [Errno 2] No such file or directory: 'data_clean/data_model_predictions.pq'"
     ]
    }
   ],
   "source": [
    "data_model_predictions = pd.read_parquet('data_clean/data_model_predictions.pq')\n",
    "\n",
    "train, test = train_test_split(data_model_predictions,test_size=0.5)\n",
    "train"
   ]
  },
  {
   "cell_type": "code",
   "execution_count": 177,
   "metadata": {},
   "outputs": [
    {
     "data": {
      "text/plain": [
       "Text(0.5, 1.0, 'The distribution women and men')"
      ]
     },
     "execution_count": 177,
     "metadata": {},
     "output_type": "execute_result"
    },
    {
     "data": {
      "image/png": "[encoded data removed]",
      "text/plain": [
       "<Figure size 800x600 with 1 Axes>"
      ]
     },
     "metadata": {},
     "output_type": "display_data"
    }
   ],
   "source": [
    "plt.figure(figsize=(8,6))\n",
    "sns.barplot(train['label'].value_counts())\n",
    "plt.title('The distribution women and men')"
   ]
  },
  {
   "cell_type": "code",
   "execution_count": 178,
   "metadata": {},
   "outputs": [],
   "source": [
    "# Defining pre-processing parameters\n",
    "max_len = 50 \n",
    "trunc_type = 'post'\n",
    "padding_type = 'post'\n",
    "oov_tok = '<OOV>' # out of vocabulary token\n",
    "vocab_size = 500"
   ]
  },
  {
   "cell_type": "code",
   "execution_count": 179,
   "metadata": {},
   "outputs": [],
   "source": [
    "x_train, x_test, y_train, y_test = train_test_split(data_model['message'], data_model['label'].values,\n",
    "                                                    test_size=0.2, random_state=434)"
   ]
  },
  {
   "cell_type": "code",
   "execution_count": 180,
   "metadata": {},
   "outputs": [
    {
     "name": "stdout",
     "output_type": "stream",
     "text": [
      "Shape of training tensor:  (8564, 50)\n",
      "Shape of testing tensor:  (2141, 50)\n"
     ]
    }
   ],
   "source": [
    "tokenizer = Tokenizer(num_words = vocab_size, \n",
    "                      char_level = False,\n",
    "                      oov_token = oov_tok)\n",
    "tokenizer.fit_on_texts(x_train)\n",
    "# Get the word_index\n",
    "word_index = tokenizer.word_index\n",
    "total_words = len(word_index)\n",
    "total_words\n",
    "\n",
    "\n",
    "training_sequences = tokenizer.texts_to_sequences(x_train)\n",
    "training_padded = pad_sequences(training_sequences,\n",
    "                                maxlen = max_len,\n",
    "                                padding = padding_type,\n",
    "                                truncating = trunc_type)\n",
    "\n",
    "\n",
    "testing_sequences = tokenizer.texts_to_sequences(x_test)\n",
    "testing_padded = pad_sequences(testing_sequences,\n",
    "                               maxlen = max_len,\n",
    "                               padding = padding_type,\n",
    "                               truncating = trunc_type)\n",
    "\n",
    "\n",
    "print('Shape of training tensor: ', training_padded.shape)\n",
    "print('Shape of testing tensor: ', testing_padded.shape)"
   ]
  },
  {
   "cell_type": "code",
   "execution_count": 181,
   "metadata": {},
   "outputs": [
    {
     "name": "stdout",
     "output_type": "stream",
     "text": [
      "Epoch 1/30\n",
      "228/228 - 1s - loss: 0.3049 - accuracy: 0.9111 - val_loss: 0.0215 - val_accuracy: 0.9969 - 1s/epoch - 6ms/step\n",
      "Epoch 2/30\n",
      "228/228 - 1s - loss: 0.0141 - accuracy: 0.9964 - val_loss: 0.0082 - val_accuracy: 0.9977 - 640ms/epoch - 3ms/step\n",
      "Epoch 3/30\n",
      "228/228 - 1s - loss: 0.0076 - accuracy: 0.9979 - val_loss: 0.0056 - val_accuracy: 0.9984 - 515ms/epoch - 2ms/step\n",
      "Epoch 4/30\n",
      "228/228 - 1s - loss: 0.0053 - accuracy: 0.9989 - val_loss: 0.0049 - val_accuracy: 0.9984 - 520ms/epoch - 2ms/step\n",
      "Epoch 5/30\n",
      "228/228 - 0s - loss: 0.0030 - accuracy: 0.9993 - val_loss: 0.0036 - val_accuracy: 0.9984 - 494ms/epoch - 2ms/step\n",
      "Epoch 6/30\n",
      "228/228 - 1s - loss: 0.0019 - accuracy: 0.9996 - val_loss: 0.0019 - val_accuracy: 0.9992 - 521ms/epoch - 2ms/step\n",
      "Epoch 7/30\n",
      "228/228 - 1s - loss: 0.0018 - accuracy: 0.9993 - val_loss: 0.0016 - val_accuracy: 0.9992 - 531ms/epoch - 2ms/step\n",
      "Epoch 8/30\n",
      "228/228 - 1s - loss: 0.0012 - accuracy: 0.9997 - val_loss: 0.0023 - val_accuracy: 0.9992 - 702ms/epoch - 3ms/step\n",
      "Epoch 9/30\n",
      "228/228 - 1s - loss: 9.4062e-04 - accuracy: 0.9997 - val_loss: 0.0020 - val_accuracy: 0.9992 - 869ms/epoch - 4ms/step\n",
      "Epoch 10/30\n",
      "228/228 - 1s - loss: 7.4336e-04 - accuracy: 0.9999 - val_loss: 0.0016 - val_accuracy: 0.9992 - 843ms/epoch - 4ms/step\n"
     ]
    }
   ],
   "source": [
    "# Define parameter\n",
    "vocab_size = 500 \n",
    "embedding_dim = 128\n",
    "drop_value = 0.2\n",
    "n_dense = 128\n",
    "# Define Dense Model Architecture\n",
    "model = Sequential()\n",
    "model.add(Embedding(vocab_size,\n",
    "                    embedding_dim,\n",
    "                    input_length = max_len))\n",
    "model.add(GlobalAveragePooling1D())\n",
    "model.add(Dense(n_dense, activation='relu'))\n",
    "model.add(Dropout(drop_value))\n",
    "model.add(Dense(1, activation='sigmoid'))\n",
    "model.compile(loss = 'binary_crossentropy', optimizer = 'adam' , metrics = ['accuracy'])\n",
    "num_epochs = 30\n",
    "early_stop = EarlyStopping(monitor='val_loss', patience=3)\n",
    "history = model.fit(training_padded,\n",
    "                    y_train,\n",
    "                    epochs=num_epochs, \n",
    "                    validation_split = 0.15,\n",
    "                    callbacks =[early_stop],\n",
    "                    verbose=2)"
   ]
  },
  {
   "cell_type": "code",
   "execution_count": 182,
   "metadata": {},
   "outputs": [
    {
     "name": "stdout",
     "output_type": "stream",
     "text": [
      "34/34 - 0s - loss: 5.8340e-04 - accuracy: 0.9999 - 213ms/epoch - 6ms/step\n",
      "67/67 [==============================] - 0s 2ms/step - loss: 0.0011 - accuracy: 1.0000\n",
      "Train accuracy: 99.99\n",
      "Valid accuracy: 100.00\n",
      "Test accuracy: 100.00\n"
     ]
    }
   ],
   "source": [
    "train_dense_results = model.evaluate(training_padded, np.asarray(y_train), verbose=2, batch_size=256)\n",
    "test_dense_results = model.evaluate(testing_padded, y_test)\n",
    "print(f'Train accuracy: {train_dense_results[1]*100:0.2f}')\n",
    "print(f'Valid accuracy: {test_dense_results[1]*100:0.2f}')\n",
    "print(f'Test accuracy: {test_dense_results[1]*100:0.2f}')"
   ]
  },
  {
   "cell_type": "markdown",
   "metadata": {},
   "source": [
    "LSTM"
   ]
  },
  {
   "cell_type": "code",
   "execution_count": 183,
   "metadata": {},
   "outputs": [],
   "source": [
    "# Define parameter\n",
    "n_lstm = 128\n",
    "drop_lstm = 0.2\n",
    "# Define LSTM Model \n",
    "model1 = Sequential()\n",
    "model1.add(Embedding(vocab_size, embedding_dim, input_length=max_len))\n",
    "model1.add(SpatialDropout1D(drop_lstm))\n",
    "model1.add(LSTM(n_lstm, return_sequences=False))\n",
    "model1.add(Dropout(drop_lstm))\n",
    "model1.add(Dense(1, activation='sigmoid'))"
   ]
  },
  {
   "cell_type": "code",
   "execution_count": 184,
   "metadata": {},
   "outputs": [
    {
     "name": "stdout",
     "output_type": "stream",
     "text": [
      "Epoch 1/30\n",
      "228/228 - 16s - loss: 0.6886 - accuracy: 0.5178 - val_loss: 0.0803 - val_accuracy: 0.9961 - 16s/epoch - 70ms/step\n",
      "Epoch 2/30\n",
      "228/228 - 13s - loss: 0.0066 - accuracy: 0.9993 - val_loss: 0.0126 - val_accuracy: 0.9984 - 13s/epoch - 56ms/step\n",
      "Epoch 3/30\n",
      "228/228 - 13s - loss: 0.0040 - accuracy: 0.9996 - val_loss: 0.0131 - val_accuracy: 0.9984 - 13s/epoch - 55ms/step\n",
      "Epoch 4/30\n",
      "228/228 - 12s - loss: 0.0041 - accuracy: 0.9996 - val_loss: 0.0070 - val_accuracy: 0.9992 - 12s/epoch - 53ms/step\n",
      "Epoch 5/30\n",
      "228/228 - 13s - loss: 0.0039 - accuracy: 0.9996 - val_loss: 0.0132 - val_accuracy: 0.9984 - 13s/epoch - 57ms/step\n",
      "Epoch 6/30\n",
      "228/228 - 12s - loss: 0.0037 - accuracy: 0.9996 - val_loss: 0.0070 - val_accuracy: 0.9992 - 12s/epoch - 55ms/step\n",
      "Epoch 7/30\n",
      "228/228 - 13s - loss: 0.0037 - accuracy: 0.9996 - val_loss: 0.0071 - val_accuracy: 0.9992 - 13s/epoch - 57ms/step\n",
      "Epoch 8/30\n",
      "228/228 - 13s - loss: 0.0027 - accuracy: 0.9997 - val_loss: 0.0069 - val_accuracy: 0.9992 - 13s/epoch - 55ms/step\n",
      "Epoch 9/30\n",
      "228/228 - 12s - loss: 0.0041 - accuracy: 0.9996 - val_loss: 0.0070 - val_accuracy: 0.9992 - 12s/epoch - 55ms/step\n",
      "Epoch 10/30\n",
      "228/228 - 13s - loss: 0.0028 - accuracy: 0.9997 - val_loss: 0.0068 - val_accuracy: 0.9992 - 13s/epoch - 56ms/step\n",
      "Epoch 11/30\n",
      "228/228 - 12s - loss: 0.0035 - accuracy: 0.9996 - val_loss: 0.0069 - val_accuracy: 0.9992 - 12s/epoch - 53ms/step\n",
      "Epoch 12/30\n",
      "228/228 - 13s - loss: 0.0039 - accuracy: 0.9996 - val_loss: 0.0067 - val_accuracy: 0.9992 - 13s/epoch - 56ms/step\n",
      "Epoch 13/30\n",
      "228/228 - 14s - loss: 0.0026 - accuracy: 0.9997 - val_loss: 0.0070 - val_accuracy: 0.9992 - 14s/epoch - 64ms/step\n",
      "Epoch 14/30\n",
      "228/228 - 14s - loss: 0.0028 - accuracy: 0.9997 - val_loss: 0.0069 - val_accuracy: 0.9992 - 14s/epoch - 60ms/step\n"
     ]
    }
   ],
   "source": [
    "model1.compile(loss = 'binary_crossentropy',\n",
    "               optimizer = 'adam',\n",
    "               metrics = ['accuracy'])\n",
    "\n",
    "num_epochs = 30\n",
    "early_stop = EarlyStopping(monitor='val_loss', patience=2)\n",
    "history = model1.fit(training_padded,\n",
    "                     y_train,\n",
    "                     epochs=num_epochs, \n",
    "                     validation_split=0.15,\n",
    "                     callbacks =[early_stop],\n",
    "                     verbose=2)"
   ]
  },
  {
   "cell_type": "code",
   "execution_count": 185,
   "metadata": {},
   "outputs": [
    {
     "name": "stdout",
     "output_type": "stream",
     "text": [
      "34/34 - 3s - loss: 0.0032 - accuracy: 0.9996 - 3s/epoch - 84ms/step\n",
      "67/67 [==============================] - 2s 28ms/step - loss: 0.0078 - accuracy: 0.9991\n",
      "Train accuracy: 99.96\n",
      "Test accuracy: 99.91\n"
     ]
    }
   ],
   "source": [
    "train_dense_results = model1.evaluate(training_padded, np.asarray(y_train), verbose=2, batch_size=256)\n",
    "test_dense_results = model1.evaluate(testing_padded, y_test)\n",
    "print(f'Train accuracy: {train_dense_results[1]*100:0.2f}')\n",
    "print(f'Test accuracy: {test_dense_results[1]*100:0.2f}')"
   ]
  },
  {
   "cell_type": "markdown",
   "metadata": {},
   "source": [
    "testing on unsupervised data"
   ]
  },
  {
   "cell_type": "code",
   "execution_count": null,
   "metadata": {},
   "outputs": [],
   "source": [
    "data_model = pd.read_csv('data/data_unsupervised.csv',index_col= 0).set_index('id',append=True)\n",
    "# data_model.columns = ['message','label']\n",
    "x_unlabel = data_model['X']\n",
    "\n",
    "\n",
    "unsupervised_sequences = tokenizer.texts_to_sequences(x_unlabel)\n",
    "unsupervised_padded = pad_sequences(unsupervised_sequences,\n",
    "                                maxlen = max_len,\n",
    "                                padding = padding_type,\n",
    "                                truncating = trunc_type)"
   ]
  },
  {
   "cell_type": "code",
   "execution_count": null,
   "metadata": {},
   "outputs": [],
   "source": [
    "predictions = model.predict(unsupervised_padded)\n",
    "unsupervised_pred = pd.DataFrame(predictions,columns = ['pred'],index = data_model.index)\n",
    "sns.kdeplot(unsupervised_pred['pred'], bw_adjust=0.5, fill=True)\n",
    "data_model['pred'] = unsupervised_pred['pred']\n",
    "data_model['label_approx'] = data_model['X'].apply(lambda x :0 if 'femme' in x else 1)\n",
    "data_model['pred_label']= data_model['pred'].apply(lambda x : 1 if x >0.5 else 0)\n",
    "data_model[(data_model['X'].str.contains('homme')) & (data_model['pred_label']==0)]\n",
    "from sklearn.metrics import confusion_matrix, ConfusionMatrixDisplay\n",
    "import matplotlib.pyplot as plt\n",
    "\n",
    "cm = confusion_matrix(data_model['label_approx'], data_model['pred_label'], labels=[0,1])\n",
    "fig, ax = plt.subplots(figsize=(5, 5))\n",
    "disp = ConfusionMatrixDisplay(confusion_matrix=cm, display_labels=['femme','homme'])\n",
    "disp.plot(values_format='d', cmap='Blues', ax=ax)\n",
    "plt.title('Confusion Matrix')\n",
    "plt.show()\n",
    "clean_data = pd.read_csv('data/data_clean.csv',index_col=[0,1])\n",
    "clean_data = clean_data.join(data_model,how = 'inner')\n",
    "accuracy_score(clean_data['label_approx'],clean_data['pred_label'])"
   ]
  },
  {
   "cell_type": "markdown",
   "metadata": {},
   "source": [
    "# BI LSTM"
   ]
  },
  {
   "cell_type": "code",
   "execution_count": null,
   "metadata": {},
   "outputs": [],
   "source": [
    "model2 = Sequential()\n",
    "model2.add(Embedding(vocab_size,\n",
    "                     embedding_dim,\n",
    "                     input_length = max_len))\n",
    "model2.add(Bidirectional(LSTM(n_lstm,\n",
    "                              return_sequences = False)))\n",
    "model2.add(Dropout(drop_lstm))\n",
    "model2.add(Dense(1, activation='sigmoid'))\n",
    "\n",
    "model2.summary()\n",
    "\n",
    "model2.compile(loss = 'binary_crossentropy',\n",
    "               optimizer = 'adam',\n",
    "               metrics=['accuracy'])"
   ]
  },
  {
   "cell_type": "code",
   "execution_count": null,
   "metadata": {},
   "outputs": [
    {
     "name": "stdout",
     "output_type": "stream",
     "text": [
      "228/228 - 29s - loss: 0.1008 - accuracy: 0.9683 - val_loss: 0.0072 - val_accuracy: 0.9992 - 29s/epoch - 127ms/step\n",
      "Epoch 2/30\n",
      "228/228 - 25s - loss: 0.0073 - accuracy: 0.9978 - val_loss: 0.0022 - val_accuracy: 0.9992 - 25s/epoch - 110ms/step\n",
      "Epoch 3/30\n",
      "228/228 - 26s - loss: 0.0018 - accuracy: 0.9999 - val_loss: 6.2316e-04 - val_accuracy: 1.0000 - 26s/epoch - 112ms/step\n",
      "Epoch 4/30\n",
      "228/228 - 29s - loss: 6.9299e-04 - accuracy: 0.9999 - val_loss: 2.0906e-04 - val_accuracy: 1.0000 - 29s/epoch - 126ms/step\n",
      "Epoch 5/30\n",
      "228/228 - 27s - loss: 1.6806e-04 - accuracy: 1.0000 - val_loss: 1.2744e-04 - val_accuracy: 1.0000 - 27s/epoch - 117ms/step\n",
      "Epoch 6/30\n",
      "228/228 - 24s - loss: 9.5741e-05 - accuracy: 1.0000 - val_loss: 1.1751e-04 - val_accuracy: 1.0000 - 24s/epoch - 105ms/step\n",
      "Epoch 7/30\n",
      "228/228 - 23s - loss: 6.8983e-05 - accuracy: 1.0000 - val_loss: 8.9087e-05 - val_accuracy: 1.0000 - 23s/epoch - 100ms/step\n",
      "Epoch 8/30\n",
      "228/228 - 23s - loss: 5.3996e-05 - accuracy: 1.0000 - val_loss: 7.7464e-05 - val_accuracy: 1.0000 - 23s/epoch - 99ms/step\n",
      "Epoch 9/30\n",
      "228/228 - 23s - loss: 4.2953e-05 - accuracy: 1.0000 - val_loss: 4.5249e-05 - val_accuracy: 1.0000 - 23s/epoch - 99ms/step\n",
      "Epoch 10/30\n",
      "228/228 - 22s - loss: 3.0129e-05 - accuracy: 1.0000 - val_loss: 5.3817e-05 - val_accuracy: 1.0000 - 22s/epoch - 95ms/step\n",
      "Epoch 11/30\n",
      "228/228 - 24s - loss: 2.7024e-05 - accuracy: 1.0000 - val_loss: 5.2220e-05 - val_accuracy: 1.0000 - 24s/epoch - 103ms/step\n"
     ]
    }
   ],
   "source": [
    "num_epochs = 30\n",
    "early_stop = EarlyStopping(monitor = 'val_loss',\n",
    "                           patience = 2)\n",
    "history = model2.fit(training_padded,\n",
    "                     y_train,\n",
    "                     epochs = num_epochs,\n",
    "                     validation_split = 0.15,\n",
    "                     callbacks = [early_stop],\n",
    "                     verbose = 2)"
   ]
  },
  {
   "cell_type": "code",
   "execution_count": null,
   "metadata": {},
   "outputs": [
    {
     "name": "stdout",
     "output_type": "stream",
     "text": [
      "34/34 - 6s - loss: 2.2791e-05 - accuracy: 1.0000 - 6s/epoch - 180ms/step\n",
      "67/67 [==============================] - 3s 39ms/step - loss: 2.1143e-05 - accuracy: 1.0000\n",
      "Train accuracy: 100.00\n",
      "Test accuracy: 100.00\n"
     ]
    }
   ],
   "source": [
    "train_dense_results = model2.evaluate(training_padded, np.asarray(y_train), verbose=2, batch_size=256)\n",
    "test_dense_results = model2.evaluate(testing_padded, y_test)\n",
    "print(f'Train accuracy: {train_dense_results[1]*100:0.2f}')\n",
    "print(f'Test accuracy: {test_dense_results[1]*100:0.2f}')"
   ]
  },
  {
   "cell_type": "code",
   "execution_count": null,
   "metadata": {},
   "outputs": [
    {
     "name": "stdout",
     "output_type": "stream",
     "text": [
      "449/449 [==============================] - 8s 16ms/step\n"
     ]
    },
    {
     "data": {
      "text/plain": [
       "<Axes: xlabel='pred', ylabel='Density'>"
      ]
     },
     "execution_count": 168,
     "metadata": {},
     "output_type": "execute_result"
    },
    {
     "data": {
      "image/png": "[encoded data removed]",
      "text/plain": [
       "<Figure size 640x480 with 1 Axes>"
      ]
     },
     "metadata": {},
     "output_type": "display_data"
    }
   ],
   "source": [
    "predictions = model2.predict(unsupervised_padded)\n",
    "unsupervised_pred = pd.DataFrame(predictions,columns = ['pred'],index = data_model.index)\n",
    "sns.kdeplot(unsupervised_pred['pred'], bw_adjust=0.5, fill=True)\n"
   ]
  },
  {
   "cell_type": "code",
   "execution_count": null,
   "metadata": {},
   "outputs": [],
   "source": [
    "data_model['pred'] = unsupervised_pred['pred']\n",
    "data_model['label_approx'] = data_model['X'].apply(lambda x :0 if 'femme' in x else 1)\n",
    "data_model['pred_label']= data_model['pred'].apply(lambda x : 1 if x >0.5 else 0)\n"
   ]
  },
  {
   "cell_type": "code",
   "execution_count": null,
   "metadata": {},
   "outputs": [
    {
     "data": {
      "image/png": "[encoded data removed]",
      "text/plain": [
       "<Figure size 500x500 with 2 Axes>"
      ]
     },
     "metadata": {},
     "output_type": "display_data"
    }
   ],
   "source": [
    "from sklearn.metrics import confusion_matrix, ConfusionMatrixDisplay\n",
    "import matplotlib.pyplot as plt\n",
    "\n",
    "cm = confusion_matrix(data_model['label_approx'], data_model['pred_label'], labels=[0,1])\n",
    "fig, ax = plt.subplots(figsize=(5, 5))\n",
    "disp = ConfusionMatrixDisplay(confusion_matrix=cm, display_labels=['femme','homme'])\n",
    "disp.plot(values_format='d', cmap='Blues', ax=ax)\n",
    "plt.title('Confusion Matrix')\n",
    "plt.show()\n",
    "clean_data = pd.read_csv('data/data_clean.csv',index_col=[0,1])\n",
    "clean_data = clean_data.join(data_model,how = 'inner')\n"
   ]
  },
  {
   "cell_type": "code",
   "execution_count": null,
   "metadata": {},
   "outputs": [
    {
     "data": {
      "text/plain": [
       "0.9448588358313001"
      ]
     },
     "execution_count": 171,
     "metadata": {},
     "output_type": "execute_result"
    }
   ],
   "source": [
    "accuracy_score(clean_data['label_approx'],clean_data['pred_label'])"
   ]
  },
  {
   "cell_type": "code",
   "execution_count": null,
   "metadata": {},
   "outputs": [],
   "source": []
  }
 ],
 "metadata": {
  "kernelspec": {
   "display_name": "Python 3",
   "language": "python",
   "name": "python3"
  },
  "language_info": {
   "codemirror_mode": {
    "name": "ipython",
    "version": 3
   },
   "file_extension": ".py",
   "mimetype": "text/x-python",
   "name": "python",
   "nbconvert_exporter": "python",
   "pygments_lexer": "ipython3",
   "version": "3.11.5"
  }
 },
 "nbformat": 4,
 "nbformat_minor": 2
}
