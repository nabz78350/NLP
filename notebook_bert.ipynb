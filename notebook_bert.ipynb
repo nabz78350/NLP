{
 "cells": [
  {
   "cell_type": "code",
   "execution_count": 2,
   "metadata": {},
   "outputs": [
    {
     "name": "stdout",
     "output_type": "stream",
     "text": [
      "The autoreload extension is already loaded. To reload it, use:\n",
      "  %reload_ext autoreload\n",
      "The autoreload extension is already loaded. To reload it, use:\n",
      "  %reload_ext autoreload\n"
     ]
    }
   ],
   "source": [
    "%load_ext autoreload\n",
    "%autoreload 2\n",
    "import pandas as pd\n",
    "%load_ext autoreload\n",
    "%autoreload 2\n",
    "from modelling import *\n",
    "from models import * \n",
    "from params import * \n"
   ]
  },
  {
   "cell_type": "code",
   "execution_count": 21,
   "metadata": {},
   "outputs": [
    {
     "name": "stdout",
     "output_type": "stream",
     "text": [
      "modifying features\n",
      "['link', 'lob', 'employer', 'occupation', 'name_sex', 'firstname_lower']\n",
      "['link', 'lob', 'employer', 'occupation', 'name_sex', 'firstname_lower_fuzzy']\n",
      "**************augmenting data set disabled ***********\n",
      "modifying features\n",
      "['link', 'lob', 'employer', 'occupation', 'name_sex', 'firstname_lower']\n",
      "['link', 'lob', 'employer', 'occupation', 'name_sex', 'firstname_lower_fuzzy']\n",
      "Shape of training tensor:  (155, 100)\n",
      "Shape of testing tensor:  (77, 100)\n"
     ]
    }
   ],
   "source": [
    "data_class  = DataClass(use_prediction= True,use_enhanced=\"fuzzy\",custom=False,\n",
    "                        augmented_data = False)\n",
    "data_class.create_dataset()\n",
    "modelling_data = DataModel(data = data_class,\n",
    "                           use_enhanced= data_class.use_enhanced,\n",
    "                           custom_test_index=data_class.enhanced_index,\n",
    "                           max_len=100,\n",
    "                           custom=False)\n",
    "modelling_data.create_padding()"
   ]
  },
  {
   "cell_type": "code",
   "execution_count": 22,
   "metadata": {},
   "outputs": [
    {
     "name": "stdout",
     "output_type": "stream",
     "text": [
      "The autoreload extension is already loaded. To reload it, use:\n",
      "  %reload_ext autoreload\n",
      "Bert model already fitted, results in bert_models\\bert_fuzzy_False.pth\n"
     ]
    },
    {
     "data": {
      "text/html": [
       "<div>\n",
       "<style scoped>\n",
       "    .dataframe tbody tr th:only-of-type {\n",
       "        vertical-align: middle;\n",
       "    }\n",
       "\n",
       "    .dataframe tbody tr th {\n",
       "        vertical-align: top;\n",
       "    }\n",
       "\n",
       "    .dataframe thead th {\n",
       "        text-align: right;\n",
       "    }\n",
       "</style>\n",
       "<table border=\"1\" class=\"dataframe\">\n",
       "  <thead>\n",
       "    <tr style=\"text-align: right;\">\n",
       "      <th></th>\n",
       "      <th>accuracy_train</th>\n",
       "      <th>accuracy_test</th>\n",
       "      <th>model</th>\n",
       "      <th>custom</th>\n",
       "      <th>missing_names</th>\n",
       "      <th>acc_man</th>\n",
       "      <th>acc_women</th>\n",
       "    </tr>\n",
       "  </thead>\n",
       "  <tbody>\n",
       "    <tr>\n",
       "      <th>0</th>\n",
       "      <td>100</td>\n",
       "      <td>93.506494</td>\n",
       "      <td>bert</td>\n",
       "      <td>0</td>\n",
       "      <td>fuzzy</td>\n",
       "      <td>97.297297</td>\n",
       "      <td>90.0</td>\n",
       "    </tr>\n",
       "  </tbody>\n",
       "</table>\n",
       "</div>"
      ],
      "text/plain": [
       "  accuracy_train accuracy_test model custom missing_names    acc_man acc_women\n",
       "0            100     93.506494  bert      0         fuzzy  97.297297      90.0"
      ]
     },
     "execution_count": 22,
     "metadata": {},
     "output_type": "execute_result"
    }
   ],
   "source": [
    "%load_ext autoreload \n",
    "%autoreload 2\n",
    "from models import *\n",
    "model_socface = Model(data = modelling_data,model_name= \"bert\")\n",
    "model_socface.fit()\n",
    "model_socface.predict()\n",
    "model_socface.compute_results()\n",
    "model_socface.results"
   ]
  },
  {
   "cell_type": "code",
   "execution_count": 32,
   "metadata": {},
   "outputs": [
    {
     "data": {
      "text/plain": [
       "76.56"
      ]
     },
     "execution_count": 32,
     "metadata": {},
     "output_type": "execute_result"
    }
   ],
   "source": [
    "0.33*232"
   ]
  },
  {
   "cell_type": "code",
   "execution_count": 23,
   "metadata": {},
   "outputs": [
    {
     "data": {
      "image/png": "[encoded data removed]",
      "text/plain": [
       "<Figure size 500x500 with 2 Axes>"
      ]
     },
     "metadata": {},
     "output_type": "display_data"
    }
   ],
   "source": [
    "from sklearn.metrics import confusion_matrix, ConfusionMatrixDisplay\n",
    "import matplotlib.pyplot as plt\n",
    "cm = confusion_matrix(model_socface.model.table_results['TRUE'], model_socface.model.table_results['PRED'], labels=[0,1])\n",
    "fig, ax = plt.subplots(figsize=(5, 5))\n",
    "disp = ConfusionMatrixDisplay(confusion_matrix=cm, display_labels=['femme','homme'])\n",
    "disp.plot(values_format='d', cmap='Blues', ax=ax)\n",
    "plt.title(f'Confusion Matrix {model_socface.model.accuracy_test}')\n",
    "plt.show()"
   ]
  }
 ],
 "metadata": {
  "kernelspec": {
   "display_name": "Python 3",
   "language": "python",
   "name": "python3"
  },
  "language_info": {
   "codemirror_mode": {
    "name": "ipython",
    "version": 3
   },
   "file_extension": ".py",
   "mimetype": "text/x-python",
   "name": "python",
   "nbconvert_exporter": "python",
   "pygments_lexer": "ipython3",
   "version": "3.11.5"
  }
 },
 "nbformat": 4,
 "nbformat_minor": 2
}
